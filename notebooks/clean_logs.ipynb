{
 "cells": [
  {
   "cell_type": "code",
   "execution_count": 2,
   "metadata": {},
   "outputs": [],
   "source": [
    "import os, sys\n",
    "sys.path.insert(0, '..')\n",
    "\n",
    "import matplotlib.pyplot as plt\n",
    "from pathlib import Path\n",
    "import pandas as pd\n",
    "import numpy as np\n",
    "import gzip\n",
    "import pickle"
   ]
  },
  {
   "cell_type": "code",
   "execution_count": 19,
   "metadata": {},
   "outputs": [],
   "source": [
    "log_path = Path('../data-logs/observations_2023-03-14T122642Z_trunc.log.gz') \n",
    "\n",
    "with gzip.open(log_path, 'rb') as f:\n",
    "    data = pd.read_csv(f)"
   ]
  },
  {
   "cell_type": "code",
   "execution_count": 21,
   "metadata": {},
   "outputs": [
    {
     "name": "stdout",
     "output_type": "stream",
     "text": [
      "0\n",
      "Index([], dtype='int64')\n"
     ]
    }
   ],
   "source": [
    "# Front-truncate zero-dosing transitions\n",
    "first_zero_dose_index = data.index[data[\"Program:ZW.PX730.AUTO_SP\"] == 0][0]\n",
    "print(first_zero_dose_index)\n",
    "data2 = data.iloc[first_zero_dose_index:]\n",
    "\n",
    "# Should now have len 0\n",
    "print(data2.index[data2[\"Program:ZW.PX730.AUTO_SP\"] != 0])\n"
   ]
  },
  {
   "cell_type": "code",
   "execution_count": 18,
   "metadata": {},
   "outputs": [],
   "source": [
    "save_path = Path('../data-logs/observations_2023-03-14T122642Z_trunc.log.gz')\n",
    "\n",
    "with gzip.open(save_path, 'wb') as f:\n",
    "    data2.to_csv(f, index=False)"
   ]
  },
  {
   "cell_type": "code",
   "execution_count": 35,
   "metadata": {},
   "outputs": [],
   "source": [
    "base_log_path = Path('../data-logs/')\n",
    "all_logs_data = [pd.read_csv(f) for f in sorted(base_log_path.glob(\"*.log.gz\"))]"
   ]
  },
  {
   "cell_type": "code",
   "execution_count": 39,
   "metadata": {},
   "outputs": [
    {
     "name": "stdout",
     "output_type": "stream",
     "text": [
      "12\n"
     ]
    }
   ],
   "source": [
    "# Check to make sure there was constant default dosing and backpulse flow throughout all logs\n",
    "for log_data in all_logs_data:\n",
    "    has_non_default_bp_flow = len(data.index[data[\"Program:ZW.PERM_SP.BW_SP\"] != 0.6]) > 0\n",
    "    if has_non_default_bp_flow:\n",
    "        print(\"Logs contain non-default backpulse flow!\")\n",
    "    has_non_zero_dose_rate = len(data.index[data[\"Program:ZW.PX730.AUTO_SP\"] != 0]) > 0\n",
    "    if has_non_zero_dose_rate:\n",
    "        print(\"Logs contain non-zero dose rate!\")"
   ]
  }
 ],
 "metadata": {
  "kernelspec": {
   "display_name": "predictions-for-rl-3.10",
   "language": "python",
   "name": "python3"
  },
  "language_info": {
   "codemirror_mode": {
    "name": "ipython",
    "version": 3
   },
   "file_extension": ".py",
   "mimetype": "text/x-python",
   "name": "python",
   "nbconvert_exporter": "python",
   "pygments_lexer": "ipython3",
   "version": "3.10.8"
  },
  "orig_nbformat": 4
 },
 "nbformat": 4,
 "nbformat_minor": 2
}
